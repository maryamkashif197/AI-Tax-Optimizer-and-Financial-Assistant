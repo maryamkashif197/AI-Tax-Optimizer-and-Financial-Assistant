{
 "cells": [
  {
   "cell_type": "code",
   "execution_count": 2,
   "metadata": {},
   "outputs": [],
   "source": [
    "import gym\n",
    "from gym import spaces\n",
    "import numpy as np\n",
    "import pandas as pd\n",
    "\n",
    "# Load dataset\n",
    "df = pd.read_csv(\"synthetic_tax_transactions.csv\")\n",
    "\n",
    "# Convert categorical values to numeric\n",
    "category_mapping = {cat: idx for idx, cat in enumerate(df[\"category\"].unique())}\n",
    "merchant_mapping = {mer: idx for idx, mer in enumerate(df[\"merchant\"].unique())}\n",
    "payment_mapping = {pay: idx for idx, pay in enumerate(df[\"payment_method\"].unique())}\n",
    "\n",
    "df[\"category\"] = df[\"category\"].map(category_mapping)\n",
    "df[\"merchant\"] = df[\"merchant\"].map(merchant_mapping)\n",
    "df[\"payment_method\"] = df[\"payment_method\"].map(payment_mapping)\n",
    "\n",
    "# Convert date to numeric (days since first transaction)\n",
    "df[\"date\"] = pd.to_datetime(df[\"date\"])\n",
    "df[\"date\"] = (df[\"date\"] - df[\"date\"].min()).dt.days\n",
    "\n",
    "# Normalize amount\n",
    "df[\"amount\"] = (df[\"amount\"] - df[\"amount\"].min()) / (df[\"amount\"].max() - df[\"amount\"].min())\n",
    "\n",
    "class TaxOptimizationEnv(gym.Env):\n",
    "    def __init__(self, data):\n",
    "        super(TaxOptimizationEnv, self).__init__()\n",
    "        self.data = data.sample(frac=1).reset_index(drop=True)  # Shuffle data\n",
    "        self.current_index = 0  # Track transaction index\n",
    "        \n",
    "        # Action space: 0 = Don't deduct, 1 = Deduct\n",
    "        self.action_space = spaces.Discrete(2)\n",
    "        \n",
    "        # Observation space: 5 features\n",
    "        self.observation_space = spaces.Box(low=0, high=1, shape=(5,), dtype=np.float32)\n",
    "        \n",
    "        self.state = self._get_next_transaction()\n",
    "        self.episode_ended = False\n",
    "\n",
    "    def _get_next_transaction(self):\n",
    "        \"\"\"Fetch the next transaction and convert to a state vector.\"\"\"\n",
    "        if self.current_index >= len(self.data):\n",
    "            self.current_index = 0  # Restart from beginning\n",
    "            self.data = self.data.sample(frac=1).reset_index(drop=True)  # Shuffle again\n",
    "        \n",
    "        row = self.data.iloc[self.current_index]\n",
    "        self.current_index += 1\n",
    "        \n",
    "        return np.array([\n",
    "            row[\"amount\"],  \n",
    "            row[\"category\"],  \n",
    "            row[\"merchant\"],  \n",
    "            row[\"payment_method\"],  \n",
    "            row[\"tax_deductible\"]  \n",
    "        ], dtype=np.float32)\n",
    "\n",
    "    def reset(self):\n",
    "        self.state = self._get_next_transaction()\n",
    "        self.episode_ended = False\n",
    "        return self.state\n",
    "\n",
    "    def step(self, action):\n",
    "        if self.episode_ended:\n",
    "            return self.reset()\n",
    "\n",
    "        correct_action = self.state[4]  # Tax deductible (1) or not (0)\n",
    "        reward = 1 if action == correct_action else -1  # Reward for correct classification\n",
    "\n",
    "        self.state = self._get_next_transaction()\n",
    "        done = False  # In this case, episodes can continue indefinitely\n",
    "        return self.state, reward, done, {}\n",
    "\n"
   ]
  },
  {
   "cell_type": "code",
   "execution_count": 6,
   "metadata": {},
   "outputs": [
    {
     "name": "stderr",
     "output_type": "stream",
     "text": [
      "C:\\Users\\ACER\\AppData\\Roaming\\Python\\Python312\\site-packages\\stable_baselines3\\common\\vec_env\\patch_gym.py:49: UserWarning: You provided an OpenAI Gym environment. We strongly recommend transitioning to Gymnasium environments. Stable-Baselines3 is automatically wrapping your environments in a compatibility layer, which could potentially cause issues.\n",
      "  warnings.warn(\n"
     ]
    },
    {
     "name": "stdout",
     "output_type": "stream",
     "text": [
      "Using cuda device\n"
     ]
    }
   ],
   "source": [
    "import torch\n",
    "from stable_baselines3 import DQN\n",
    "from stable_baselines3.common.vec_env import DummyVecEnv\n",
    "\n",
    "env = TaxOptimizationEnv(df)\n",
    "env = DummyVecEnv([lambda: env])  # Stable-Baselines3 requires vectorized environments\n",
    "\n",
    "# Initialize the DQN agent\n",
    "model = DQN('MlpPolicy', env, learning_rate=1e-3, buffer_size=10000, batch_size=64, verbose=1)\n",
    "\n",
    "# Train the model\n",
    "model.learn(total_timesteps=10000)\n",
    "\n",
    "# Evaluate the model\n",
    "obs = env.reset()\n",
    "for _ in range(1000):  # Simulate 1000 steps\n",
    "    action, _states = model.predict(obs)\n",
    "    obs, reward, done, info = env.step(action)\n",
    "    if done:\n",
    "        obs = env.reset()\n"
   ]
  }
 ],
 "metadata": {
  "kernelspec": {
   "display_name": "Python 3",
   "language": "python",
   "name": "python3"
  },
  "language_info": {
   "codemirror_mode": {
    "name": "ipython",
    "version": 3
   },
   "file_extension": ".py",
   "mimetype": "text/x-python",
   "name": "python",
   "nbconvert_exporter": "python",
   "pygments_lexer": "ipython3",
   "version": "3.12.4"
  }
 },
 "nbformat": 4,
 "nbformat_minor": 2
}
