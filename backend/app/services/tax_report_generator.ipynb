{
 "cells": [
  {
   "cell_type": "code",
   "execution_count": 1,
   "metadata": {},
   "outputs": [],
   "source": [
    "from googleapiclient.discovery import build\n",
    "from google.oauth2 import service_account\n",
    "\n",
    "def generate_tax_report(user_name, tax_savings):\n",
    "    \"\"\"Generate a personalized tax report using Google Docs API.\"\"\"\n",
    "    creds = service_account.Credentials.from_service_account_file(\"service_account.json\")\n",
    "    docs_service = build(\"docs\", \"v1\", credentials=creds)\n",
    "    \n",
    "    document = docs_service.documents().create(body={\"title\": f\"{user_name}'s Tax Report\"}).execute()\n",
    "    doc_id = document[\"documentId\"]\n",
    "    \n",
    "    requests = [\n",
    "        {\"insertText\": {\"location\": {\"index\": 1}, \"text\": f\"Tax Report for {user_name}\\n\\n\"}},\n",
    "        {\"insertText\": {\"location\": {\"index\": 2}, \"text\": f\"Total Predicted Tax Savings: ${tax_savings:,.2f}\\n\\n\"}},\n",
    "        {\"insertText\": {\"location\": {\"index\": 3}, \"text\": \"Thank you for using our tax optimizer!\\n\\n\"}},\n",
    "    ]\n",
    "    \n",
    "    docs_service.documents().batchUpdate(documentId=doc_id, body={\"requests\": requests}).execute()\n",
    "    \n",
    "    return doc_id"
   ]
  }
 ],
 "metadata": {
  "kernelspec": {
   "display_name": "Python 3",
   "language": "python",
   "name": "python3"
  },
  "language_info": {
   "codemirror_mode": {
    "name": "ipython",
    "version": 3
   },
   "file_extension": ".py",
   "mimetype": "text/x-python",
   "name": "python",
   "nbconvert_exporter": "python",
   "pygments_lexer": "ipython3",
   "version": "3.12.4"
  }
 },
 "nbformat": 4,
 "nbformat_minor": 2
}
