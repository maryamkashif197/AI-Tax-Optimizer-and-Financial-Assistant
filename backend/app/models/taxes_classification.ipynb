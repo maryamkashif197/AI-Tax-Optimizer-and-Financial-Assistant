{
 "cells": [
  {
   "cell_type": "code",
   "execution_count": 1,
   "metadata": {},
   "outputs": [
    {
     "ename": "ModuleNotFoundError",
     "evalue": "No module named 'tensorflow'",
     "output_type": "error",
     "traceback": [
      "\u001b[1;31m---------------------------------------------------------------------------\u001b[0m",
      "\u001b[1;31mModuleNotFoundError\u001b[0m                       Traceback (most recent call last)",
      "Cell \u001b[1;32mIn[1], line 1\u001b[0m\n\u001b[1;32m----> 1\u001b[0m \u001b[38;5;28;01mimport\u001b[39;00m \u001b[38;5;21;01mtensorflow\u001b[39;00m \u001b[38;5;28;01mas\u001b[39;00m \u001b[38;5;21;01mtf\u001b[39;00m\n\u001b[0;32m      2\u001b[0m \u001b[38;5;28;01mfrom\u001b[39;00m \u001b[38;5;21;01mtensorflow\u001b[39;00m\u001b[38;5;21;01m.\u001b[39;00m\u001b[38;5;21;01mkeras\u001b[39;00m\u001b[38;5;21;01m.\u001b[39;00m\u001b[38;5;21;01mmodels\u001b[39;00m \u001b[38;5;28;01mimport\u001b[39;00m Sequential\n\u001b[0;32m      3\u001b[0m \u001b[38;5;28;01mfrom\u001b[39;00m \u001b[38;5;21;01mtensorflow\u001b[39;00m\u001b[38;5;21;01m.\u001b[39;00m\u001b[38;5;21;01mkeras\u001b[39;00m\u001b[38;5;21;01m.\u001b[39;00m\u001b[38;5;21;01mlayers\u001b[39;00m \u001b[38;5;28;01mimport\u001b[39;00m Dense, Embedding, LSTM, Dropout\n",
      "\u001b[1;31mModuleNotFoundError\u001b[0m: No module named 'tensorflow'"
     ]
    }
   ],
   "source": [
    "import tensorflow as tf\n",
    "from tensorflow.keras.models import Sequential\n",
    "from tensorflow.keras.layers import Dense, Embedding, LSTM, Dropout\n",
    "from tensorflow.keras.preprocessing.text import Tokenizer\n",
    "from tensorflow.keras.preprocessing.sequence import pad_sequences\n",
    "import numpy as np\n",
    "import pickle\n",
    "import pandas as pd\n",
    "\n",
    "transactions = pd.read_csv('../../data/freelancer_tax_deductions.csv')"
   ]
  },
  {
   "cell_type": "code",
   "execution_count": 11,
   "metadata": {},
   "outputs": [
    {
     "data": {
      "text/html": [
       "<div>\n",
       "<style scoped>\n",
       "    .dataframe tbody tr th:only-of-type {\n",
       "        vertical-align: middle;\n",
       "    }\n",
       "\n",
       "    .dataframe tbody tr th {\n",
       "        vertical-align: top;\n",
       "    }\n",
       "\n",
       "    .dataframe thead th {\n",
       "        text-align: right;\n",
       "    }\n",
       "</style>\n",
       "<table border=\"1\" class=\"dataframe\">\n",
       "  <thead>\n",
       "    <tr style=\"text-align: right;\">\n",
       "      <th></th>\n",
       "      <th>transaction_id</th>\n",
       "      <th>user_id</th>\n",
       "      <th>date</th>\n",
       "      <th>amount</th>\n",
       "      <th>currency</th>\n",
       "      <th>category</th>\n",
       "      <th>description</th>\n",
       "      <th>deduction_rate</th>\n",
       "      <th>max_limit</th>\n",
       "      <th>merchant</th>\n",
       "      <th>payment_method</th>\n",
       "      <th>country</th>\n",
       "      <th>tax_deductible</th>\n",
       "    </tr>\n",
       "  </thead>\n",
       "  <tbody>\n",
       "    <tr>\n",
       "      <th>0</th>\n",
       "      <td>5280833a-4da9-416e-92f3-713ae32f63b2</td>\n",
       "      <td>101</td>\n",
       "      <td>2024-10-21</td>\n",
       "      <td>7923.67</td>\n",
       "      <td>EUR</td>\n",
       "      <td>Marketing &amp; Advertising</td>\n",
       "      <td>Google Ads campaign</td>\n",
       "      <td>1.0</td>\n",
       "      <td>10000</td>\n",
       "      <td>Uber</td>\n",
       "      <td>Bank Transfer</td>\n",
       "      <td>Germany</td>\n",
       "      <td>True</td>\n",
       "    </tr>\n",
       "    <tr>\n",
       "      <th>1</th>\n",
       "      <td>23d051ef-6839-40f6-bf22-e3b381043aa3</td>\n",
       "      <td>101</td>\n",
       "      <td>2024-09-09</td>\n",
       "      <td>6105.90</td>\n",
       "      <td>EUR</td>\n",
       "      <td>Work Equipment</td>\n",
       "      <td>Ergonomic keyboard and mouse</td>\n",
       "      <td>0.5</td>\n",
       "      <td>5000</td>\n",
       "      <td>Microsoft</td>\n",
       "      <td>Bank Transfer</td>\n",
       "      <td>USA</td>\n",
       "      <td>False</td>\n",
       "    </tr>\n",
       "    <tr>\n",
       "      <th>2</th>\n",
       "      <td>7f48d640-6680-4b2f-bae5-a5c827644d72</td>\n",
       "      <td>101</td>\n",
       "      <td>2024-08-17</td>\n",
       "      <td>686.59</td>\n",
       "      <td>USD</td>\n",
       "      <td>Internet &amp; Phone</td>\n",
       "      <td>Mobile data plan for work calls</td>\n",
       "      <td>0.4</td>\n",
       "      <td>2500</td>\n",
       "      <td>Amazon</td>\n",
       "      <td>PayPal</td>\n",
       "      <td>Australia</td>\n",
       "      <td>True</td>\n",
       "    </tr>\n",
       "    <tr>\n",
       "      <th>3</th>\n",
       "      <td>1ebba401-ff6a-4112-9703-a06e6a98d851</td>\n",
       "      <td>101</td>\n",
       "      <td>2024-10-10</td>\n",
       "      <td>1095.94</td>\n",
       "      <td>USD</td>\n",
       "      <td>Client Entertainment</td>\n",
       "      <td>Dinner with potential client</td>\n",
       "      <td>0.2</td>\n",
       "      <td>1500</td>\n",
       "      <td>Netflix</td>\n",
       "      <td>Bank Transfer</td>\n",
       "      <td>Canada</td>\n",
       "      <td>True</td>\n",
       "    </tr>\n",
       "    <tr>\n",
       "      <th>4</th>\n",
       "      <td>dbcff318-0298-4ed3-9b6f-2d73adbecf50</td>\n",
       "      <td>101</td>\n",
       "      <td>2025-02-15</td>\n",
       "      <td>3664.11</td>\n",
       "      <td>EUR</td>\n",
       "      <td>Internet &amp; Phone</td>\n",
       "      <td>Business internet subscription</td>\n",
       "      <td>0.4</td>\n",
       "      <td>2500</td>\n",
       "      <td>Microsoft</td>\n",
       "      <td>Cash</td>\n",
       "      <td>France</td>\n",
       "      <td>False</td>\n",
       "    </tr>\n",
       "  </tbody>\n",
       "</table>\n",
       "</div>"
      ],
      "text/plain": [
       "                         transaction_id  user_id        date   amount  \\\n",
       "0  5280833a-4da9-416e-92f3-713ae32f63b2      101  2024-10-21  7923.67   \n",
       "1  23d051ef-6839-40f6-bf22-e3b381043aa3      101  2024-09-09  6105.90   \n",
       "2  7f48d640-6680-4b2f-bae5-a5c827644d72      101  2024-08-17   686.59   \n",
       "3  1ebba401-ff6a-4112-9703-a06e6a98d851      101  2024-10-10  1095.94   \n",
       "4  dbcff318-0298-4ed3-9b6f-2d73adbecf50      101  2025-02-15  3664.11   \n",
       "\n",
       "  currency                 category                      description  \\\n",
       "0      EUR  Marketing & Advertising              Google Ads campaign   \n",
       "1      EUR           Work Equipment     Ergonomic keyboard and mouse   \n",
       "2      USD         Internet & Phone  Mobile data plan for work calls   \n",
       "3      USD     Client Entertainment     Dinner with potential client   \n",
       "4      EUR         Internet & Phone   Business internet subscription   \n",
       "\n",
       "   deduction_rate  max_limit   merchant payment_method    country  \\\n",
       "0             1.0      10000       Uber  Bank Transfer    Germany   \n",
       "1             0.5       5000  Microsoft  Bank Transfer        USA   \n",
       "2             0.4       2500     Amazon         PayPal  Australia   \n",
       "3             0.2       1500    Netflix  Bank Transfer     Canada   \n",
       "4             0.4       2500  Microsoft           Cash     France   \n",
       "\n",
       "   tax_deductible  \n",
       "0            True  \n",
       "1           False  \n",
       "2            True  \n",
       "3            True  \n",
       "4           False  "
      ]
     },
     "execution_count": 11,
     "metadata": {},
     "output_type": "execute_result"
    }
   ],
   "source": [
    "transactions.head()"
   ]
  },
  {
   "cell_type": "code",
   "execution_count": 12,
   "metadata": {},
   "outputs": [
    {
     "data": {
      "text/plain": [
       "(200, 13)"
      ]
     },
     "execution_count": 12,
     "metadata": {},
     "output_type": "execute_result"
    }
   ],
   "source": [
    "transactions.shape"
   ]
  },
  {
   "cell_type": "code",
   "execution_count": 13,
   "metadata": {},
   "outputs": [
    {
     "name": "stdout",
     "output_type": "stream",
     "text": [
      "<class 'pandas.core.frame.DataFrame'>\n",
      "RangeIndex: 200 entries, 0 to 199\n",
      "Data columns (total 13 columns):\n",
      " #   Column          Non-Null Count  Dtype  \n",
      "---  ------          --------------  -----  \n",
      " 0   transaction_id  200 non-null    object \n",
      " 1   user_id         200 non-null    int64  \n",
      " 2   date            200 non-null    object \n",
      " 3   amount          200 non-null    float64\n",
      " 4   currency        200 non-null    object \n",
      " 5   category        200 non-null    object \n",
      " 6   description     200 non-null    object \n",
      " 7   deduction_rate  200 non-null    float64\n",
      " 8   max_limit       200 non-null    int64  \n",
      " 9   merchant        200 non-null    object \n",
      " 10  payment_method  200 non-null    object \n",
      " 11  country         200 non-null    object \n",
      " 12  tax_deductible  200 non-null    bool   \n",
      "dtypes: bool(1), float64(2), int64(2), object(8)\n",
      "memory usage: 19.1+ KB\n"
     ]
    }
   ],
   "source": [
    "transactions.info()"
   ]
  },
  {
   "cell_type": "code",
   "execution_count": 14,
   "metadata": {},
   "outputs": [
    {
     "data": {
      "text/html": [
       "<div>\n",
       "<style scoped>\n",
       "    .dataframe tbody tr th:only-of-type {\n",
       "        vertical-align: middle;\n",
       "    }\n",
       "\n",
       "    .dataframe tbody tr th {\n",
       "        vertical-align: top;\n",
       "    }\n",
       "\n",
       "    .dataframe thead th {\n",
       "        text-align: right;\n",
       "    }\n",
       "</style>\n",
       "<table border=\"1\" class=\"dataframe\">\n",
       "  <thead>\n",
       "    <tr style=\"text-align: right;\">\n",
       "      <th></th>\n",
       "      <th>user_id</th>\n",
       "      <th>amount</th>\n",
       "      <th>deduction_rate</th>\n",
       "      <th>max_limit</th>\n",
       "    </tr>\n",
       "  </thead>\n",
       "  <tbody>\n",
       "    <tr>\n",
       "      <th>count</th>\n",
       "      <td>200.0</td>\n",
       "      <td>200.00000</td>\n",
       "      <td>200.000000</td>\n",
       "      <td>200.00000</td>\n",
       "    </tr>\n",
       "    <tr>\n",
       "      <th>mean</th>\n",
       "      <td>101.0</td>\n",
       "      <td>4489.02755</td>\n",
       "      <td>0.584750</td>\n",
       "      <td>5360.00000</td>\n",
       "    </tr>\n",
       "    <tr>\n",
       "      <th>std</th>\n",
       "      <td>0.0</td>\n",
       "      <td>4531.86891</td>\n",
       "      <td>0.310341</td>\n",
       "      <td>3834.89663</td>\n",
       "    </tr>\n",
       "    <tr>\n",
       "      <th>min</th>\n",
       "      <td>101.0</td>\n",
       "      <td>24.52000</td>\n",
       "      <td>0.200000</td>\n",
       "      <td>1500.00000</td>\n",
       "    </tr>\n",
       "    <tr>\n",
       "      <th>25%</th>\n",
       "      <td>101.0</td>\n",
       "      <td>1448.53000</td>\n",
       "      <td>0.300000</td>\n",
       "      <td>3000.00000</td>\n",
       "    </tr>\n",
       "    <tr>\n",
       "      <th>50%</th>\n",
       "      <td>101.0</td>\n",
       "      <td>2907.72000</td>\n",
       "      <td>0.500000</td>\n",
       "      <td>4000.00000</td>\n",
       "    </tr>\n",
       "    <tr>\n",
       "      <th>75%</th>\n",
       "      <td>101.0</td>\n",
       "      <td>5955.47250</td>\n",
       "      <td>1.000000</td>\n",
       "      <td>5000.00000</td>\n",
       "    </tr>\n",
       "    <tr>\n",
       "      <th>max</th>\n",
       "      <td>101.0</td>\n",
       "      <td>22002.24000</td>\n",
       "      <td>1.000000</td>\n",
       "      <td>15000.00000</td>\n",
       "    </tr>\n",
       "  </tbody>\n",
       "</table>\n",
       "</div>"
      ],
      "text/plain": [
       "       user_id       amount  deduction_rate    max_limit\n",
       "count    200.0    200.00000      200.000000    200.00000\n",
       "mean     101.0   4489.02755        0.584750   5360.00000\n",
       "std        0.0   4531.86891        0.310341   3834.89663\n",
       "min      101.0     24.52000        0.200000   1500.00000\n",
       "25%      101.0   1448.53000        0.300000   3000.00000\n",
       "50%      101.0   2907.72000        0.500000   4000.00000\n",
       "75%      101.0   5955.47250        1.000000   5000.00000\n",
       "max      101.0  22002.24000        1.000000  15000.00000"
      ]
     },
     "execution_count": 14,
     "metadata": {},
     "output_type": "execute_result"
    }
   ],
   "source": [
    "transactions.describe()"
   ]
  },
  {
   "cell_type": "code",
   "execution_count": 15,
   "metadata": {},
   "outputs": [
    {
     "data": {
      "text/html": [
       "<div>\n",
       "<style scoped>\n",
       "    .dataframe tbody tr th:only-of-type {\n",
       "        vertical-align: middle;\n",
       "    }\n",
       "\n",
       "    .dataframe tbody tr th {\n",
       "        vertical-align: top;\n",
       "    }\n",
       "\n",
       "    .dataframe thead th {\n",
       "        text-align: right;\n",
       "    }\n",
       "</style>\n",
       "<table border=\"1\" class=\"dataframe\">\n",
       "  <thead>\n",
       "    <tr style=\"text-align: right;\">\n",
       "      <th></th>\n",
       "      <th>transaction_id</th>\n",
       "      <th>date</th>\n",
       "      <th>currency</th>\n",
       "      <th>category</th>\n",
       "      <th>description</th>\n",
       "      <th>merchant</th>\n",
       "      <th>payment_method</th>\n",
       "      <th>country</th>\n",
       "    </tr>\n",
       "  </thead>\n",
       "  <tbody>\n",
       "    <tr>\n",
       "      <th>count</th>\n",
       "      <td>200</td>\n",
       "      <td>200</td>\n",
       "      <td>200</td>\n",
       "      <td>200</td>\n",
       "      <td>200</td>\n",
       "      <td>200</td>\n",
       "      <td>200</td>\n",
       "      <td>200</td>\n",
       "    </tr>\n",
       "    <tr>\n",
       "      <th>unique</th>\n",
       "      <td>200</td>\n",
       "      <td>156</td>\n",
       "      <td>3</td>\n",
       "      <td>11</td>\n",
       "      <td>36</td>\n",
       "      <td>9</td>\n",
       "      <td>5</td>\n",
       "      <td>6</td>\n",
       "    </tr>\n",
       "    <tr>\n",
       "      <th>top</th>\n",
       "      <td>5280833a-4da9-416e-92f3-713ae32f63b2</td>\n",
       "      <td>2024-04-28</td>\n",
       "      <td>EUR</td>\n",
       "      <td>Transportation</td>\n",
       "      <td>SEO service for website optimization</td>\n",
       "      <td>Microsoft</td>\n",
       "      <td>Bank Transfer</td>\n",
       "      <td>Canada</td>\n",
       "    </tr>\n",
       "    <tr>\n",
       "      <th>freq</th>\n",
       "      <td>1</td>\n",
       "      <td>3</td>\n",
       "      <td>75</td>\n",
       "      <td>24</td>\n",
       "      <td>12</td>\n",
       "      <td>31</td>\n",
       "      <td>44</td>\n",
       "      <td>47</td>\n",
       "    </tr>\n",
       "  </tbody>\n",
       "</table>\n",
       "</div>"
      ],
      "text/plain": [
       "                              transaction_id        date currency  \\\n",
       "count                                    200         200      200   \n",
       "unique                                   200         156        3   \n",
       "top     5280833a-4da9-416e-92f3-713ae32f63b2  2024-04-28      EUR   \n",
       "freq                                       1           3       75   \n",
       "\n",
       "              category                           description   merchant  \\\n",
       "count              200                                   200        200   \n",
       "unique              11                                    36          9   \n",
       "top     Transportation  SEO service for website optimization  Microsoft   \n",
       "freq                24                                    12         31   \n",
       "\n",
       "       payment_method country  \n",
       "count             200     200  \n",
       "unique              5       6  \n",
       "top     Bank Transfer  Canada  \n",
       "freq               44      47  "
      ]
     },
     "execution_count": 15,
     "metadata": {},
     "output_type": "execute_result"
    }
   ],
   "source": [
    "transactions.describe(include='object')"
   ]
  },
  {
   "cell_type": "code",
   "execution_count": 16,
   "metadata": {},
   "outputs": [
    {
     "data": {
      "text/plain": [
       "transaction_id    0\n",
       "user_id           0\n",
       "date              0\n",
       "amount            0\n",
       "currency          0\n",
       "category          0\n",
       "description       0\n",
       "deduction_rate    0\n",
       "max_limit         0\n",
       "merchant          0\n",
       "payment_method    0\n",
       "country           0\n",
       "tax_deductible    0\n",
       "dtype: int64"
      ]
     },
     "execution_count": 16,
     "metadata": {},
     "output_type": "execute_result"
    }
   ],
   "source": [
    "transactions.isnull().sum()"
   ]
  },
  {
   "cell_type": "code",
   "execution_count": 7,
   "metadata": {},
   "outputs": [
    {
     "name": "stderr",
     "output_type": "stream",
     "text": [
      "WARNING:absl:Compiled the loaded model, but the compiled metrics have yet to be built. `model.compile_metrics` will be empty until you train or evaluate the model.\n"
     ]
    }
   ],
   "source": [
    "import tensorflow as tf\n",
    "import pickle\n",
    "import numpy as np\n",
    "import json\n",
    "\n",
    "\n",
    "# Load Model and Tokenizer\n",
    "model = tf.keras.models.load_model(\"tax_classifier.h5\")\n",
    "with open(\"tokenizer.pkl\", \"rb\") as f:\n",
    "    tokenizer = pickle.load(f)\n",
    "\n",
    "tokenizer_json = tokenizer.to_json()\n",
    "\n",
    "with open(\"tokenizer.json\", \"w\") as json_file:\n",
    "    json.dump(tokenizer_json, json_file)\n"
   ]
  },
  {
   "cell_type": "code",
   "execution_count": null,
   "metadata": {},
   "outputs": [
    {
     "name": "stderr",
     "output_type": "stream",
     "text": [
      "WARNING:absl:Compiled the loaded model, but the compiled metrics have yet to be built. `model.compile_metrics` will be empty until you train or evaluate the model.\n"
     ]
    }
   ],
   "source": [
    "def predict_deductible(description):\n",
    "    \"\"\"Predict if a transaction is deductible.\"\"\"\n",
    "    sequence = tokenizer.texts_to_sequences([description])\n",
    "    padded_sequence = tf.keras.preprocessing.sequence.pad_sequences(sequence, maxlen=10)\n",
    "    prediction = model.predict(padded_sequence)[0][0]\n",
    "    return bool(prediction > 0.5)"
   ]
  },
  {
   "cell_type": "code",
   "execution_count": null,
   "metadata": {},
   "outputs": [],
   "source": []
  }
 ],
 "metadata": {
  "kernelspec": {
   "display_name": "Python 3",
   "language": "python",
   "name": "python3"
  },
  "language_info": {
   "codemirror_mode": {
    "name": "ipython",
    "version": 3
   },
   "file_extension": ".py",
   "mimetype": "text/x-python",
   "name": "python",
   "nbconvert_exporter": "python",
   "pygments_lexer": "ipython3",
   "version": "3.12.2"
  }
 },
 "nbformat": 4,
 "nbformat_minor": 2
}
