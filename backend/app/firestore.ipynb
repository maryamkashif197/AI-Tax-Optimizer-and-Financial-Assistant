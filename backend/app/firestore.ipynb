{
 "cells": [
  {
   "cell_type": "code",
   "execution_count": 9,
   "metadata": {},
   "outputs": [],
   "source": [
    "import firebase_admin\n",
    "from firebase_admin import db, credentials, firestore"
   ]
  },
  {
   "cell_type": "code",
   "execution_count": 7,
   "metadata": {},
   "outputs": [
    {
     "data": {
      "text/plain": [
       "<firebase_admin.App at 0x22109e75a00>"
      ]
     },
     "execution_count": 7,
     "metadata": {},
     "output_type": "execute_result"
    }
   ],
   "source": [
    "cred = credentials.Certificate(\"../credentials.json\")\n",
    "firebase_admin.initialize_app(cred)"
   ]
  },
  {
   "cell_type": "code",
   "execution_count": 10,
   "metadata": {},
   "outputs": [],
   "source": [
    "db = firestore.client()"
   ]
  },
  {
   "cell_type": "code",
   "execution_count": 11,
   "metadata": {},
   "outputs": [],
   "source": [
    "\n",
    "def save_transaction(user_id, category, amount, payment_method, merchant):\n",
    "    transaction_ref = db.collection(\"users\").document(user_id).collection(\"transactions\").document()\n",
    "\n",
    "    transaction_data = {\n",
    "        \"category\": category,\n",
    "        \"amount\": amount,\n",
    "        \"payment_method\": payment_method,\n",
    "        \"merchant\": merchant,\n",
    "        \"timestamp\": firestore.SERVER_TIMESTAMP,\n",
    "    }\n",
    "\n",
    "    transaction_ref.set(transaction_data)\n",
    "    print(f\"Transaction saved for {user_id}: {transaction_data}\")\n"
   ]
  },
  {
   "cell_type": "code",
   "execution_count": 13,
   "metadata": {},
   "outputs": [],
   "source": [
    "def get_user_transactions(user_id):\n",
    "    transactions_ref = db.collection(\"users\").document(user_id).collection(\"transactions\")\n",
    "    docs = transactions_ref.stream()\n",
    "\n",
    "    user_transactions = []\n",
    "    for doc in docs:\n",
    "        transaction_data = doc.to_dict()\n",
    "        transaction_data[\"id\"] = doc.id  # Include transaction ID if needed\n",
    "        user_transactions.append(transaction_data)\n",
    "\n",
    "    return user_transactions"
   ]
  },
  {
   "cell_type": "code",
   "execution_count": null,
   "metadata": {},
   "outputs": [],
   "source": [
    "def update_deduction_limit(user_id, category, amount_used):\n",
    "    deduction_ref = db.collection(\"users\").document(user_id).collection(\"deductions\").document(category)\n",
    "    deduction_doc = deduction_ref.get()\n",
    "\n",
    "    if deduction_doc.exists:\n",
    "        data = deduction_doc.to_dict()\n",
    "        new_used = data[\"used_limit\"] + amount_used\n",
    "        new_remaining = max(0, data[\"max_limit\"] - new_used)\n",
    "\n",
    "        deduction_ref.update({\n",
    "            \"used_limit\": new_used,\n",
    "            \"remaining_limit\": new_remaining,\n",
    "        })\n",
    "    else:\n",
    "        deduction_ref.set({\n",
    "            \"category\": category,\n",
    "            \"max_limit\": 1000,  # Default limit (customizable)\n",
    "            \"used_limit\": amount_used,\n",
    "            \"remaining_limit\": 1000 - amount_used,\n",
    "        })\n",
    "\n",
    "    print(f\"Updated deduction for {user_id} - {category}: Used {amount_used}\")\n"
   ]
  },
  {
   "cell_type": "code",
   "execution_count": 12,
   "metadata": {},
   "outputs": [],
   "source": [
    "from datetime import datetime\n",
    "\n",
    "def save_tax_report(user_id, tax_savings):\n",
    "    report_ref = db.collection(\"users\").document(user_id).collection(\"tax_reports\").document()\n",
    "\n",
    "    report_data = {\n",
    "        \"year\": datetime.utcnow().year,\n",
    "        \"total_savings\": tax_savings,\n",
    "        \"generated_at\": datetime.utcnow(),\n",
    "        \"report_link\": f\"https://docs.google.com/document/d/{report_ref.id}/edit\",\n",
    "    }\n",
    "\n",
    "    report_ref.set(report_data)\n",
    "    print(f\"Tax report saved for {user_id}: {report_data}\")\n",
    "\n",
    "    return report_data[\"report_link\"]\n"
   ]
  }
 ],
 "metadata": {
  "kernelspec": {
   "display_name": "Python 3",
   "language": "python",
   "name": "python3"
  },
  "language_info": {
   "codemirror_mode": {
    "name": "ipython",
    "version": 3
   },
   "file_extension": ".py",
   "mimetype": "text/x-python",
   "name": "python",
   "nbconvert_exporter": "python",
   "pygments_lexer": "ipython3",
   "version": "3.12.4"
  }
 },
 "nbformat": 4,
 "nbformat_minor": 2
}
